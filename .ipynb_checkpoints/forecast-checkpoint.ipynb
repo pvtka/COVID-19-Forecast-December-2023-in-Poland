{
 "cells": [
  {
   "cell_type": "markdown",
   "id": "d322f807",
   "metadata": {
    "tags": []
   },
   "source": [
    "Prognozowana suma zakażeń w grudniu: 21269\n",
    "\n",
    "W analizie ilościowej użyto biblioteki NeuralProphet do prognozowania ilości nowych przypadków zachorowań (new_cases). NeuralProphet to zaawansowany model prognozowania czasowego, wykorzystujący głęboką sieć neuronową do modelowania złożonych wzorców w danych szeregów czasowych. Oparta na koncepcji modelu Prophet, ta biblioteka automatycznie rozpoznaje i uwzględnia różne formy sezonowości, umożliwiając dostosowanie parametrów i zapewniając interaktywne narzędzia do wizualizacji prognoz. Dzięki architekturze sieci neuronowej, NeuralProphet sprawdza się szczególnie w przypadku danych charakteryzujących się nieliniowymi trendami i sezonowościami o złożonym wzorcu.\n",
    "\n",
    "Proces rozpoczął się od przygotowania danych, gdzie istotne kolumny zostały wydzielone, a następnie indeks i nazwy kolumn zostały dostosowane do wymagań biblioteki.\n",
    "\n",
    "Ustalono również parametry modelu, takie jak tryb sezonowości (w tym przypadku, tryb multiplikatywny) oraz współczynnik uczenia. Dane zostały podzielone na zbiory walidacyjny i testowy, przy użyciu metody double_crossvalidation_split_df z pakietu NeuralProphet.\n",
    "\n",
    "Następnie przystąpiono do trenowania i testowania modelu na zbiorze walidacyjnym.\n",
    "\n",
    "Analogiczne kroki zostały wykonane dla zbioru testowego. Model był trenowany na danych treningowych, a następnie testowany na zbiorze testowym, z wynikami oceny modelu zapisywanymi do odpowiednich ram danych.\n",
    "\n",
    "Na końcu, model został ponownie wytrenowany na pełnym zbiorze danych, a następnie użyto go do prognozowania przyszłych wartości (31 dni do przodu). Wyniki prognoz zostały przedstawione na interaktywnym wykresie."
   ]
  },
  {
   "cell_type": "code",
   "execution_count": 1,
   "id": "a0ca0783-633e-4cf4-af3a-6eada2048c9a",
   "metadata": {
    "tags": []
   },
   "outputs": [],
   "source": [
    "#!pip install neuralprophet\n",
    "#!pip install neuralprophet[live]\n",
    "#!pip install fbprophet\n",
    "#!pip install prophet\n"
   ]
  },
  {
   "cell_type": "code",
   "execution_count": 2,
   "id": "e010da7b",
   "metadata": {
    "tags": []
   },
   "outputs": [
    {
     "name": "stderr",
     "output_type": "stream",
     "text": [
      "/Users/patrycjakubas/opt/anaconda3/lib/python3.9/site-packages/plotly_resampler/aggregation/aggregators.py:25: UserWarning: Could not import lttbc; will use a (slower) python alternative.\n",
      "  warnings.warn(\"Could not import lttbc; will use a (slower) python alternative.\")\n"
     ]
    }
   ],
   "source": [
    "import pandas as pd\n",
    "import matplotlib.pyplot as plt\n",
    "import statsmodels.api as sm\n",
    "from statsmodels.tsa.seasonal import seasonal_decompose\n",
    "from statsmodels.tsa.stattools import adfuller\n",
    "from typing import List\n",
    "import itertools\n",
    "from itertools import product\n",
    "from neuralprophet import NeuralProphet, set_random_seed\n",
    "from prophet.diagnostics import cross_validation, performance_metrics\n",
    "import numpy as np\n",
    "from neuralprophet import set_random_seed"
   ]
  },
  {
   "cell_type": "code",
   "execution_count": 3,
   "id": "56988e67",
   "metadata": {
    "tags": []
   },
   "outputs": [],
   "source": [
    "font = {\n",
    "        'color':  'black',\n",
    "        'weight': 'normal',\n",
    "        'size': 16\n",
    "       }\n",
    "%matplotlib inline"
   ]
  },
  {
   "cell_type": "code",
   "execution_count": 4,
   "id": "0869d6dc",
   "metadata": {
    "tags": []
   },
   "outputs": [
    {
     "data": {
      "text/html": [
       "<div>\n",
       "<style scoped>\n",
       "    .dataframe tbody tr th:only-of-type {\n",
       "        vertical-align: middle;\n",
       "    }\n",
       "\n",
       "    .dataframe tbody tr th {\n",
       "        vertical-align: top;\n",
       "    }\n",
       "\n",
       "    .dataframe thead th {\n",
       "        text-align: right;\n",
       "    }\n",
       "</style>\n",
       "<table border=\"1\" class=\"dataframe\">\n",
       "  <thead>\n",
       "    <tr style=\"text-align: right;\">\n",
       "      <th></th>\n",
       "      <th>Unnamed: 0</th>\n",
       "      <th>iso_code</th>\n",
       "      <th>continent</th>\n",
       "      <th>location</th>\n",
       "      <th>date</th>\n",
       "      <th>total_cases</th>\n",
       "      <th>new_cases</th>\n",
       "      <th>new_cases_smoothed</th>\n",
       "      <th>total_deaths</th>\n",
       "      <th>new_deaths</th>\n",
       "      <th>...</th>\n",
       "      <th>male_smokers</th>\n",
       "      <th>handwashing_facilities</th>\n",
       "      <th>hospital_beds_per_thousand</th>\n",
       "      <th>life_expectancy</th>\n",
       "      <th>human_development_index</th>\n",
       "      <th>population</th>\n",
       "      <th>excess_mortality_cumulative_absolute</th>\n",
       "      <th>excess_mortality_cumulative</th>\n",
       "      <th>excess_mortality</th>\n",
       "      <th>excess_mortality_cumulative_per_million</th>\n",
       "    </tr>\n",
       "  </thead>\n",
       "  <tbody>\n",
       "    <tr>\n",
       "      <th>0</th>\n",
       "      <td>255410</td>\n",
       "      <td>POL</td>\n",
       "      <td>Europe</td>\n",
       "      <td>Poland</td>\n",
       "      <td>2020-01-03</td>\n",
       "      <td>NaN</td>\n",
       "      <td>0.0</td>\n",
       "      <td>NaN</td>\n",
       "      <td>NaN</td>\n",
       "      <td>0.0</td>\n",
       "      <td>...</td>\n",
       "      <td>33.1</td>\n",
       "      <td>NaN</td>\n",
       "      <td>6.62</td>\n",
       "      <td>78.73</td>\n",
       "      <td>0.88</td>\n",
       "      <td>39857144.0</td>\n",
       "      <td>NaN</td>\n",
       "      <td>NaN</td>\n",
       "      <td>NaN</td>\n",
       "      <td>NaN</td>\n",
       "    </tr>\n",
       "    <tr>\n",
       "      <th>1</th>\n",
       "      <td>255411</td>\n",
       "      <td>POL</td>\n",
       "      <td>Europe</td>\n",
       "      <td>Poland</td>\n",
       "      <td>2020-01-04</td>\n",
       "      <td>NaN</td>\n",
       "      <td>0.0</td>\n",
       "      <td>NaN</td>\n",
       "      <td>NaN</td>\n",
       "      <td>0.0</td>\n",
       "      <td>...</td>\n",
       "      <td>33.1</td>\n",
       "      <td>NaN</td>\n",
       "      <td>6.62</td>\n",
       "      <td>78.73</td>\n",
       "      <td>0.88</td>\n",
       "      <td>39857144.0</td>\n",
       "      <td>NaN</td>\n",
       "      <td>NaN</td>\n",
       "      <td>NaN</td>\n",
       "      <td>NaN</td>\n",
       "    </tr>\n",
       "    <tr>\n",
       "      <th>2</th>\n",
       "      <td>255412</td>\n",
       "      <td>POL</td>\n",
       "      <td>Europe</td>\n",
       "      <td>Poland</td>\n",
       "      <td>2020-01-05</td>\n",
       "      <td>NaN</td>\n",
       "      <td>0.0</td>\n",
       "      <td>NaN</td>\n",
       "      <td>NaN</td>\n",
       "      <td>0.0</td>\n",
       "      <td>...</td>\n",
       "      <td>33.1</td>\n",
       "      <td>NaN</td>\n",
       "      <td>6.62</td>\n",
       "      <td>78.73</td>\n",
       "      <td>0.88</td>\n",
       "      <td>39857144.0</td>\n",
       "      <td>-337.9</td>\n",
       "      <td>-3.84</td>\n",
       "      <td>-3.84</td>\n",
       "      <td>-8.792983</td>\n",
       "    </tr>\n",
       "    <tr>\n",
       "      <th>3</th>\n",
       "      <td>255413</td>\n",
       "      <td>POL</td>\n",
       "      <td>Europe</td>\n",
       "      <td>Poland</td>\n",
       "      <td>2020-01-06</td>\n",
       "      <td>NaN</td>\n",
       "      <td>0.0</td>\n",
       "      <td>NaN</td>\n",
       "      <td>NaN</td>\n",
       "      <td>0.0</td>\n",
       "      <td>...</td>\n",
       "      <td>33.1</td>\n",
       "      <td>NaN</td>\n",
       "      <td>6.62</td>\n",
       "      <td>78.73</td>\n",
       "      <td>0.88</td>\n",
       "      <td>39857144.0</td>\n",
       "      <td>NaN</td>\n",
       "      <td>NaN</td>\n",
       "      <td>NaN</td>\n",
       "      <td>NaN</td>\n",
       "    </tr>\n",
       "    <tr>\n",
       "      <th>4</th>\n",
       "      <td>255414</td>\n",
       "      <td>POL</td>\n",
       "      <td>Europe</td>\n",
       "      <td>Poland</td>\n",
       "      <td>2020-01-07</td>\n",
       "      <td>NaN</td>\n",
       "      <td>0.0</td>\n",
       "      <td>NaN</td>\n",
       "      <td>NaN</td>\n",
       "      <td>0.0</td>\n",
       "      <td>...</td>\n",
       "      <td>33.1</td>\n",
       "      <td>NaN</td>\n",
       "      <td>6.62</td>\n",
       "      <td>78.73</td>\n",
       "      <td>0.88</td>\n",
       "      <td>39857144.0</td>\n",
       "      <td>NaN</td>\n",
       "      <td>NaN</td>\n",
       "      <td>NaN</td>\n",
       "      <td>NaN</td>\n",
       "    </tr>\n",
       "  </tbody>\n",
       "</table>\n",
       "<p>5 rows × 68 columns</p>\n",
       "</div>"
      ],
      "text/plain": [
       "   Unnamed: 0 iso_code continent location        date  total_cases  new_cases  \\\n",
       "0      255410      POL    Europe   Poland  2020-01-03          NaN        0.0   \n",
       "1      255411      POL    Europe   Poland  2020-01-04          NaN        0.0   \n",
       "2      255412      POL    Europe   Poland  2020-01-05          NaN        0.0   \n",
       "3      255413      POL    Europe   Poland  2020-01-06          NaN        0.0   \n",
       "4      255414      POL    Europe   Poland  2020-01-07          NaN        0.0   \n",
       "\n",
       "   new_cases_smoothed  total_deaths  new_deaths  ...  male_smokers  \\\n",
       "0                 NaN           NaN         0.0  ...          33.1   \n",
       "1                 NaN           NaN         0.0  ...          33.1   \n",
       "2                 NaN           NaN         0.0  ...          33.1   \n",
       "3                 NaN           NaN         0.0  ...          33.1   \n",
       "4                 NaN           NaN         0.0  ...          33.1   \n",
       "\n",
       "   handwashing_facilities  hospital_beds_per_thousand  life_expectancy  \\\n",
       "0                     NaN                        6.62            78.73   \n",
       "1                     NaN                        6.62            78.73   \n",
       "2                     NaN                        6.62            78.73   \n",
       "3                     NaN                        6.62            78.73   \n",
       "4                     NaN                        6.62            78.73   \n",
       "\n",
       "   human_development_index  population  excess_mortality_cumulative_absolute  \\\n",
       "0                     0.88  39857144.0                                   NaN   \n",
       "1                     0.88  39857144.0                                   NaN   \n",
       "2                     0.88  39857144.0                                -337.9   \n",
       "3                     0.88  39857144.0                                   NaN   \n",
       "4                     0.88  39857144.0                                   NaN   \n",
       "\n",
       "   excess_mortality_cumulative  excess_mortality  \\\n",
       "0                          NaN               NaN   \n",
       "1                          NaN               NaN   \n",
       "2                        -3.84             -3.84   \n",
       "3                          NaN               NaN   \n",
       "4                          NaN               NaN   \n",
       "\n",
       "   excess_mortality_cumulative_per_million  \n",
       "0                                      NaN  \n",
       "1                                      NaN  \n",
       "2                                -8.792983  \n",
       "3                                      NaN  \n",
       "4                                      NaN  \n",
       "\n",
       "[5 rows x 68 columns]"
      ]
     },
     "execution_count": 4,
     "metadata": {},
     "output_type": "execute_result"
    }
   ],
   "source": [
    "# Załadowanie danych\n",
    "file_path = 'data/owid-covid-data_POLAND.csv'\n",
    "\n",
    "df = pd.read_csv(file_path, sep=';')\n",
    "df.head()"
   ]
  },
  {
   "cell_type": "code",
   "execution_count": 5,
   "id": "f7bdb387",
   "metadata": {
    "tags": []
   },
   "outputs": [],
   "source": [
    "# Usunięcie niepotrzebnych kolumn\n",
    "relevant_columns = ['date', 'total_cases', 'new_cases']\n",
    "df = df[relevant_columns]"
   ]
  },
  {
   "cell_type": "code",
   "execution_count": 6,
   "id": "78e76bd2",
   "metadata": {
    "tags": []
   },
   "outputs": [],
   "source": [
    "# Przygotowanie indeksu do modelowania\n",
    "df['date'] = pd.to_datetime(df['date'])\n",
    "df.set_index('date', inplace=True)"
   ]
  },
  {
   "cell_type": "code",
   "execution_count": 7,
   "id": "da8697b4",
   "metadata": {
    "tags": []
   },
   "outputs": [
    {
     "data": {
      "text/plain": [
       "total_cases    62\n",
       "new_cases       0\n",
       "dtype: int64"
      ]
     },
     "execution_count": 7,
     "metadata": {},
     "output_type": "execute_result"
    }
   ],
   "source": [
    "# Sprawdzenie wartości Null\n",
    "df.isnull().sum()"
   ]
  },
  {
   "cell_type": "code",
   "execution_count": 8,
   "id": "bb24d99d",
   "metadata": {
    "tags": []
   },
   "outputs": [
    {
     "data": {
      "text/html": [
       "<div>\n",
       "<style scoped>\n",
       "    .dataframe tbody tr th:only-of-type {\n",
       "        vertical-align: middle;\n",
       "    }\n",
       "\n",
       "    .dataframe tbody tr th {\n",
       "        vertical-align: top;\n",
       "    }\n",
       "\n",
       "    .dataframe thead th {\n",
       "        text-align: right;\n",
       "    }\n",
       "</style>\n",
       "<table border=\"1\" class=\"dataframe\">\n",
       "  <thead>\n",
       "    <tr style=\"text-align: right;\">\n",
       "      <th></th>\n",
       "      <th>total_cases</th>\n",
       "      <th>new_cases</th>\n",
       "    </tr>\n",
       "    <tr>\n",
       "      <th>date</th>\n",
       "      <th></th>\n",
       "      <th></th>\n",
       "    </tr>\n",
       "  </thead>\n",
       "  <tbody>\n",
       "    <tr>\n",
       "      <th>2020-01-03</th>\n",
       "      <td>NaN</td>\n",
       "      <td>0.0</td>\n",
       "    </tr>\n",
       "    <tr>\n",
       "      <th>2020-01-04</th>\n",
       "      <td>NaN</td>\n",
       "      <td>0.0</td>\n",
       "    </tr>\n",
       "    <tr>\n",
       "      <th>2020-01-05</th>\n",
       "      <td>NaN</td>\n",
       "      <td>0.0</td>\n",
       "    </tr>\n",
       "    <tr>\n",
       "      <th>2020-01-06</th>\n",
       "      <td>NaN</td>\n",
       "      <td>0.0</td>\n",
       "    </tr>\n",
       "    <tr>\n",
       "      <th>2020-01-07</th>\n",
       "      <td>NaN</td>\n",
       "      <td>0.0</td>\n",
       "    </tr>\n",
       "    <tr>\n",
       "      <th>...</th>\n",
       "      <td>...</td>\n",
       "      <td>...</td>\n",
       "    </tr>\n",
       "    <tr>\n",
       "      <th>2020-03-03</th>\n",
       "      <td>NaN</td>\n",
       "      <td>0.0</td>\n",
       "    </tr>\n",
       "    <tr>\n",
       "      <th>2020-03-04</th>\n",
       "      <td>NaN</td>\n",
       "      <td>0.0</td>\n",
       "    </tr>\n",
       "    <tr>\n",
       "      <th>2020-03-05</th>\n",
       "      <td>1.0</td>\n",
       "      <td>1.0</td>\n",
       "    </tr>\n",
       "    <tr>\n",
       "      <th>2020-03-06</th>\n",
       "      <td>1.0</td>\n",
       "      <td>0.0</td>\n",
       "    </tr>\n",
       "    <tr>\n",
       "      <th>2020-03-07</th>\n",
       "      <td>5.0</td>\n",
       "      <td>4.0</td>\n",
       "    </tr>\n",
       "  </tbody>\n",
       "</table>\n",
       "<p>65 rows × 2 columns</p>\n",
       "</div>"
      ],
      "text/plain": [
       "            total_cases  new_cases\n",
       "date                              \n",
       "2020-01-03          NaN        0.0\n",
       "2020-01-04          NaN        0.0\n",
       "2020-01-05          NaN        0.0\n",
       "2020-01-06          NaN        0.0\n",
       "2020-01-07          NaN        0.0\n",
       "...                 ...        ...\n",
       "2020-03-03          NaN        0.0\n",
       "2020-03-04          NaN        0.0\n",
       "2020-03-05          1.0        1.0\n",
       "2020-03-06          1.0        0.0\n",
       "2020-03-07          5.0        4.0\n",
       "\n",
       "[65 rows x 2 columns]"
      ]
     },
     "execution_count": 8,
     "metadata": {},
     "output_type": "execute_result"
    }
   ],
   "source": [
    "df.head(65)"
   ]
  },
  {
   "cell_type": "markdown",
   "id": "3a1d9a1e",
   "metadata": {},
   "source": [
    "Widzimy, że kolumna \"total_cases\" ma tylko brakujące wartości na początku, co oznacza, że nie było żadnych przypadków, więc wypełniam wartość 0."
   ]
  },
  {
   "cell_type": "code",
   "execution_count": 9,
   "id": "87d77c1b",
   "metadata": {
    "tags": []
   },
   "outputs": [],
   "source": [
    "df = df.dropna(subset=['new_cases'])"
   ]
  },
  {
   "cell_type": "code",
   "execution_count": 10,
   "id": "18526af9",
   "metadata": {
    "tags": []
   },
   "outputs": [
    {
     "data": {
      "text/html": [
       "<div>\n",
       "<style scoped>\n",
       "    .dataframe tbody tr th:only-of-type {\n",
       "        vertical-align: middle;\n",
       "    }\n",
       "\n",
       "    .dataframe tbody tr th {\n",
       "        vertical-align: top;\n",
       "    }\n",
       "\n",
       "    .dataframe thead th {\n",
       "        text-align: right;\n",
       "    }\n",
       "</style>\n",
       "<table border=\"1\" class=\"dataframe\">\n",
       "  <thead>\n",
       "    <tr style=\"text-align: right;\">\n",
       "      <th></th>\n",
       "      <th>total_cases</th>\n",
       "      <th>new_cases</th>\n",
       "    </tr>\n",
       "    <tr>\n",
       "      <th>date</th>\n",
       "      <th></th>\n",
       "      <th></th>\n",
       "    </tr>\n",
       "  </thead>\n",
       "  <tbody>\n",
       "  </tbody>\n",
       "</table>\n",
       "</div>"
      ],
      "text/plain": [
       "Empty DataFrame\n",
       "Columns: [total_cases, new_cases]\n",
       "Index: []"
      ]
     },
     "execution_count": 10,
     "metadata": {},
     "output_type": "execute_result"
    }
   ],
   "source": [
    "df[df['new_cases'].isnull()]"
   ]
  },
  {
   "cell_type": "code",
   "execution_count": 11,
   "id": "82227a7f",
   "metadata": {
    "tags": []
   },
   "outputs": [],
   "source": [
    "# Uzupełnianie brakujących danych\n",
    "df['total_cases'] = df['total_cases'].fillna(0)\n",
    "df['new_cases'] = df['new_cases'].fillna(0)"
   ]
  },
  {
   "cell_type": "code",
   "execution_count": null,
   "id": "6b3a7f0d",
   "metadata": {
    "scrolled": true,
    "tags": []
   },
   "outputs": [],
   "source": [
    "# Podsumowanie danych\n",
    "df.describe()"
   ]
  },
  {
   "cell_type": "markdown",
   "id": "f8a71c5b",
   "metadata": {},
   "source": [
    "### Wykres liczby nowych przypadków i łącznej liczby przypadków"
   ]
  },
  {
   "cell_type": "code",
   "execution_count": null,
   "id": "ee387c84",
   "metadata": {
    "tags": []
   },
   "outputs": [],
   "source": [
    "plt.figure(figsize=(12, 6))\n",
    "plt.plot(df['new_cases'], label='Nowe przypadki', color='blue')\n",
    "plt.plot(df['total_cases'], label='Łączna liczba przypadków', color='red', alpha=0.5)\n",
    "plt.title('COVID-19 w Polsce: Nowe przypadki i łączna liczba przypadków')\n",
    "plt.xlabel('Data')\n",
    "plt.ylabel('Liczba przypadków')\n",
    "plt.legend()\n",
    "plt.grid(True)\n",
    "plt.show()\n"
   ]
  },
  {
   "cell_type": "markdown",
   "id": "46d1f585",
   "metadata": {},
   "source": [
    "Na wykresie widzimy, że liczba nowych przypadków COVID-19 w Polsce wykazuje pewne wzorce, które mogą być związane z sezonowością, zmianami w polityce zdrowotnej, czy pojawieniem się nowych wariantów wirusa. Zauważalne są również wyraźne szczyty, które mogą odpowiadać falom pandemii.\n",
    "\n",
    "Aby lepiej zrozumieć te wzorce i przygotować się do modelowania, przeprowadzimy dekompozycję szeregów czasowych, aby oddzielić trend, sezonowość i komponent losowy."
   ]
  },
  {
   "cell_type": "markdown",
   "id": "2c6c0ca0",
   "metadata": {},
   "source": [
    "### Przedstawienie Tygodniowych danych VS Średnio miesięcznych"
   ]
  },
  {
   "cell_type": "code",
   "execution_count": null,
   "id": "5b4f0bd4",
   "metadata": {
    "tags": []
   },
   "outputs": [],
   "source": [
    "y = df[['new_cases']]\n",
    "fig, ax = plt.subplots(figsize=(20, 6))\n",
    "ax.plot(y,marker='.', linestyle='-', linewidth=0.5, label='Weekly')\n",
    "ax.plot(y.resample('M').mean(),marker='o', markersize=8, linestyle='-', label='Monthly Mean Resample')\n",
    "ax.set_ylabel('new_cases')\n",
    "ax.legend();"
   ]
  },
  {
   "cell_type": "markdown",
   "id": "528a085e",
   "metadata": {},
   "source": [
    "1. Sezonowość i Trendy: Wykres wskazuje na istnienie sezonowości i trendów w danych. Można zauważyć pewne okresowe wzrosty i spadki, które mogą odpowiadać sezonowym wzrostom zachorowań, np. w okresach jesienno-zimowych.\n",
    "<br>\n",
    "<br>\n",
    "2. Wahania Krótkoterminowe vs. Długoterminowe: Tygodniowe dane ukazują bardziej zmienną naturę rozprzestrzeniania się wirusa, co może być związane z różnymi czynnikami, takimi jak zmiany w polityce zdrowotnej, wprowadzanie lub znoszenie restrykcji, a także czynniki zewnętrzne. Średnia miesięczna pomaga wygładzić te wahania i lepiej zrozumieć ogólny kierunek zmian.\n",
    "<br>\n",
    "<br>\n",
    "3. Wartości Ekstremalne: W danych tygodniowych można zauważyć kilka wyraźnych szczytów, co może wskazywać na fale pandemii lub nagłe wzrosty liczby przypadków."
   ]
  },
  {
   "cell_type": "markdown",
   "id": "7bf50c87",
   "metadata": {},
   "source": [
    "### Dekompozycja szeregów czasowych (trend, sezonowość i komponent losowy)"
   ]
  },
  {
   "cell_type": "code",
   "execution_count": null,
   "id": "5ab25b3c",
   "metadata": {
    "scrolled": true,
    "tags": []
   },
   "outputs": [],
   "source": [
    "decomposition = seasonal_decompose(df['new_cases'], model='additive', period=365)\n",
    "\n",
    "# Wyodrębnienie składników\n",
    "trend = decomposition.trend\n",
    "seasonal = decomposition.seasonal\n",
    "residual = decomposition.resid\n",
    "\n",
    "# Wizualizacja dekompozycji\n",
    "plt.figure(figsize=(14, 8))\n",
    "\n",
    "plt.subplot(411)\n",
    "plt.plot(df['new_cases'], label='Original')\n",
    "plt.legend(loc='best')\n",
    "\n",
    "plt.subplot(412)\n",
    "plt.plot(trend, label='Trend')\n",
    "plt.legend(loc='best')\n",
    "\n",
    "plt.subplot(413)\n",
    "plt.plot(seasonal,label='Seasonality')\n",
    "plt.legend(loc='best')\n",
    "#plt.ylim(-20000, 40000)\n",
    "\n",
    "plt.subplot(414)\n",
    "plt.plot(residual, label='Residuals')\n",
    "plt.legend(loc='best')\n",
    "#plt.ylim(-20000, 40000)\n",
    "\n",
    "plt.tight_layout()\n",
    "plt.show()"
   ]
  },
  {
   "cell_type": "markdown",
   "id": "56ac948b",
   "metadata": {},
   "source": [
    "1. Oryginalny Szereg Czasowy: Wykres pokazuje oryginalne dane dotyczące nowych przypadków COVID-19, z uwzględnieniem wszystkich fluktuacji.\n",
    "<br>\n",
    "<br>\n",
    "2. Trend: Wskazuje na ogólny wzór lub kierunek w danych, ignorując krótkoterminowe wahania. Widać, jak zmieniała się ogólna liczba nowych przypadków COVID-19 w czasie.\n",
    "<br>\n",
    "<br>\n",
    "3. Sezonowość: Wyraźnie pokazuje wzorce sezonowe, które powtarzają się w regularnych odstępach czasu. Można zauważyć, czy istnieją cykliczne wzrosty lub spadki liczby nowych przypadków.\n",
    "<br>\n",
    "<br>\n",
    "4. Reszty (Residuals): Te dane reprezentują komponent losowy, który nie jest wyjaśniony przez trend ani sezonowość. Zawiera on wszelkie anomalie i nieregularności w danych."
   ]
  },
  {
   "cell_type": "markdown",
   "id": "35b173a2",
   "metadata": {},
   "source": [
    "### Sprawdzenie stacjonarności"
   ]
  },
  {
   "cell_type": "code",
   "execution_count": null,
   "id": "dc706266",
   "metadata": {
    "scrolled": true,
    "tags": []
   },
   "outputs": [],
   "source": [
    "for col in df.columns:\n",
    "    y = df[col]\n",
    "    rolmean = pd.Series(y).rolling(window=12).mean() \n",
    "    rolstd = pd.Series(y).rolling(window=12).std()   \n",
    "    fig, ax = plt.subplots(figsize=(16, 4))\n",
    "    ax.plot(y, label= 'raw data')\n",
    "    ax.plot(rolmean, label='rolling mean')\n",
    "    ax.plot(rolstd, label='rolling std (x10)')\n",
    "    plt.title(\"Test stationarity for {}\".format(col),fontdict=font)\n",
    "    ax.legend()"
   ]
  },
  {
   "cell_type": "markdown",
   "id": "1b4704c5",
   "metadata": {},
   "source": [
    "1. Total Cases (Łączna liczba przypadków)\n",
    "- Surowe Dane: Wykazują ciągły wzrost łącznej liczby przypadków COVID-19 w Polsce.\n",
    "- Średnia Ruchoma: Potwierdza długoterminowy wzrostowy trend w danych. Średnia ruchoma stale rośnie, co wskazuje na ciągłe zwiększanie się łącznej liczby przypadków.\n",
    "- Odchylenie Standardowe Ruchome: Również rośnie, sugerując wzrost zmienności danych w czasie. \n",
    "<br>\n",
    "<br>\n",
    "2. New Cases (Nowe przypadki)\n",
    "- Surowe Dane: Pokazują zmienność w liczbie nowych przypadków w czasie, z widocznymi wzrostami i spadkami.\n",
    "- Średnia Ruchoma: Fluktuacje w średniej ruchomej odzwierciedlają sezonowe wzorce oraz okresowe fale epidemii.\n",
    "- Odchylenie Standardowe Ruchome: Waha się w czasie, co wskazuje na nieregularną zmienność w liczbie nowych przypadków.\n",
    "<br>\n",
    "\n",
    "#### Trendy i Stacjonarność: W obu kolumnach widać niestacjonarność danych, co oznacza, że zarówno średnia jak i wariancja zmieniają się w czasie. Jest to typowe dla danych epidemiologicznych, gdzie liczba przypadków rośnie w miarę rozprzestrzeniania się choroby."
   ]
  },
  {
   "cell_type": "markdown",
   "id": "bf3e27e4",
   "metadata": {},
   "source": [
    "### Sprawdzenie stacjonarności za pomocą testu statystycznego"
   ]
  },
  {
   "cell_type": "code",
   "execution_count": null,
   "id": "08855261",
   "metadata": {
    "tags": []
   },
   "outputs": [],
   "source": [
    "def check_stationary(cols_check: List[str]) -> List[str]:\n",
    "    non_stationary_columns_corrected = []\n",
    "\n",
    "    for col in df.columns:\n",
    "        y = df[col]\n",
    "        print('Is the {} stationary ?'.format(col))\n",
    "        test = adfuller(y.dropna(), autolag='AIC')\n",
    "        print('Test statistic = {:.3f}'.format(test[0]))\n",
    "        print('P-value = {:.3f}'.format(test[1]))\n",
    "        print('Critical values :')\n",
    "        for k, v in test[4].items():\n",
    "            print('\\t{}: {} - The data is {} stationary with {}% confidence'.format(k, v, 'not' if v<test[0] else '', 100-int(k[:-1])))\n",
    "        print(\"-\"*100)\n",
    "        if test[1] > 0.05:\n",
    "            non_stationary_columns_corrected.append(col)\n",
    "        print(non_stationary_columns_corrected)\n",
    "    return non_stationary_columns_corrected"
   ]
  },
  {
   "cell_type": "code",
   "execution_count": null,
   "id": "2c7b8852",
   "metadata": {
    "scrolled": true,
    "tags": []
   },
   "outputs": [],
   "source": [
    "non_stationary_cols = check_stationary(df.columns)"
   ]
  },
  {
   "cell_type": "markdown",
   "id": "791171c1",
   "metadata": {},
   "source": [
    "1. Total Cases:\n",
    "- Wysoka p-wartość (0.677) i wartość statystyki testowej (-1.192) większa od wartości krytycznych na wszystkich poziomach istotności wskazują, że szereg czasowy dla łącznej liczby przypadków nie jest stacjonarny. Oznacza to, że dane te posiadają trend i/lub zmieniającą się wariancję w czasie.\n",
    "<br>\n",
    "<br>\n",
    "2. New Cases:\n",
    "- Niska p-wartość (0.011) i wartość statystyki testowej (-3.410), która jest mniejsza od wartości krytycznych na poziomach istotności 5% i 10%, sugerują, że szereg czasowy dla nowych przypadków jest stacjonarny na tych poziomach. Oznacza to, że dane te mają stałą średnią i wariancję w czasie."
   ]
  },
  {
   "cell_type": "markdown",
   "id": "9d4c9df3",
   "metadata": {},
   "source": [
    "### Zastosowanie różnicowania pierwszego rzędu do szeregu czasowego 'total_cases', żeby zrobić dane stacjonarne"
   ]
  },
  {
   "cell_type": "code",
   "execution_count": null,
   "id": "e58ea648",
   "metadata": {
    "tags": []
   },
   "outputs": [],
   "source": [
    "for col in non_stationary_cols:\n",
    "    df[col] = df[col].diff().dropna()\n",
    "    \n",
    "non_stationary_cols = check_stationary(df.columns)\n",
    "assert len(non_stationary_cols) == 0"
   ]
  },
  {
   "cell_type": "code",
   "execution_count": null,
   "id": "7ebb79e0",
   "metadata": {
    "tags": []
   },
   "outputs": [],
   "source": [
    "# Sprawdzenie braków \n",
    "df[df['new_cases'].isnull()]\n",
    "df[df['total_cases'].isnull()]"
   ]
  },
  {
   "cell_type": "code",
   "execution_count": null,
   "id": "9e7037b4-b3e4-4425-afce-12740d462f15",
   "metadata": {
    "tags": []
   },
   "outputs": [],
   "source": [
    "# Uzupełnienie braków\n",
    "df['total_cases'] = df['total_cases'].fillna(0)\n",
    "df[df['total_cases'].isnull()]"
   ]
  },
  {
   "cell_type": "markdown",
   "id": "39d0c2c3-ea3e-43d4-998f-19eb599ac783",
   "metadata": {},
   "source": [
    "### Stworzenie nowej ramki danych na potrzeby modelu"
   ]
  },
  {
   "cell_type": "code",
   "execution_count": null,
   "id": "36785b59-761e-4875-9af2-91b31a92161f",
   "metadata": {
    "tags": []
   },
   "outputs": [],
   "source": [
    "df_proph = df[['new_cases']]\n",
    "df_proph.reset_index(inplace=True)\n",
    "df_proph.rename(columns={'date': 'ds', 'new_cases': 'y'}, inplace=True)\n",
    "df_proph.head()"
   ]
  },
  {
   "cell_type": "code",
   "execution_count": null,
   "id": "a982c044-677c-4104-9ce4-4cb8032a92ed",
   "metadata": {
    "tags": []
   },
   "outputs": [],
   "source": [
    "# Definicja daty startu i podziału\n",
    "start_date = '2020-07-01'\n",
    "\n",
    "# Wyfiltrowanie danych od 07.2020\n",
    "df_filtered = df_proph[df_proph['ds'] >= start_date]"
   ]
  },
  {
   "cell_type": "markdown",
   "id": "30fa6e2e-8168-4a04-a6fd-e994e98af749",
   "metadata": {},
   "source": [
    "### Określenie parametrów dla modelu przy wykorzystaniu cross walidacji"
   ]
  },
  {
   "cell_type": "code",
   "execution_count": null,
   "id": "d659bdcf-2fc6-41d4-ad5b-8ce52497ee07",
   "metadata": {
    "tags": []
   },
   "outputs": [],
   "source": [
    "METRICS = [\"MAE\", \"RMSE\"]\n",
    "METRICS_VAL = [\"MAE_val\", \"RMSE_val\"]\n",
    "params = {\"seasonality_mode\": \"multiplicative\", \"learning_rate\": 0.1}\n",
    "\n",
    "folds_val, folds_test = NeuralProphet(**params).double_crossvalidation_split_df(\n",
    "    df_proph, freq=\"D\", k=5, valid_pct=0.25, test_pct=0.25\n",
    ")"
   ]
  },
  {
   "cell_type": "code",
   "execution_count": null,
   "id": "e1618026-142c-4e9f-a9f2-193f93d4f981",
   "metadata": {
    "tags": []
   },
   "outputs": [],
   "source": [
    "set_random_seed(123)\n",
    "\n",
    "metrics_train1 = pd.DataFrame(columns=METRICS)\n",
    "metrics_val = pd.DataFrame(columns=METRICS_VAL)\n",
    "for df_train1, df_val in folds_val:\n",
    "    m = NeuralProphet(**params)\n",
    "    m.set_plotting_backend(\"plotly\")\n",
    "    train1 = m.fit(df=df_train1, freq=\"D\")\n",
    "    val = m.test(df=df_val)\n",
    "    metrics_train1 = metrics_train1.append(train1[METRICS].iloc[-1])\n",
    "    metrics_val = metrics_val.append(val[METRICS_VAL].iloc[-1])\n",
    "\n",
    "metrics_train2 = pd.DataFrame(columns=METRICS)\n",
    "metrics_test = pd.DataFrame(columns=METRICS_VAL)\n",
    "for df_train2, df_test in folds_test:\n",
    "    m = NeuralProphet(**params)\n",
    "    m.set_plotting_backend(\"plotly\")\n",
    "    train2 = m.fit(df=df_train2, freq=\"D\")\n",
    "    test = m.test(df=df_test)\n",
    "    metrics_train2 = metrics_train2.append(train2[METRICS].iloc[-1])\n",
    "    metrics_test = metrics_test.append(test[METRICS_VAL].iloc[-1])"
   ]
  },
  {
   "cell_type": "code",
   "execution_count": null,
   "id": "c384b8ac-433c-4a8a-8eda-223c8e382b12",
   "metadata": {
    "tags": []
   },
   "outputs": [],
   "source": [
    "metrics_train2.describe().loc[[\"mean\", \"std\"]]"
   ]
  },
  {
   "cell_type": "code",
   "execution_count": null,
   "id": "d5f5ded7-a6da-414b-aaad-6d1bdbb885f2",
   "metadata": {
    "tags": []
   },
   "outputs": [],
   "source": [
    "metrics_val.describe().loc[[\"mean\", \"std\"]]"
   ]
  },
  {
   "cell_type": "code",
   "execution_count": null,
   "id": "89dea0e9-cb48-4ce1-b188-03804b713596",
   "metadata": {
    "tags": []
   },
   "outputs": [],
   "source": [
    "metrics_test.describe().loc[[\"mean\", \"std\"]]"
   ]
  },
  {
   "cell_type": "markdown",
   "id": "bca29afc-0114-4711-8f63-ef1246b1da58",
   "metadata": {},
   "source": [
    "### Implementacja modelu i prognozowanie dla wybranych najlepszych parametrów"
   ]
  },
  {
   "cell_type": "code",
   "execution_count": null,
   "id": "c9543763-533c-4ded-95c7-c26e538d2acc",
   "metadata": {
    "tags": []
   },
   "outputs": [],
   "source": [
    "set_random_seed(123)\n",
    "\n",
    "m = NeuralProphet(**params)\n",
    "m.set_plotting_backend(\"plotly\")\n",
    "metrics_train2 = m.fit(df=df_proph, freq=\"D\")\n",
    "future = m.make_future_dataframe(df_proph, periods=31, n_historic_predictions=True)\n",
    "forecast = m.predict(future)\n",
    "m.plot(forecast)"
   ]
  },
  {
   "cell_type": "code",
   "execution_count": null,
   "id": "48a49e55-ebb6-4efc-b030-2246417d94c7",
   "metadata": {
    "tags": []
   },
   "outputs": [],
   "source": [
    "forecast.tail(31)"
   ]
  },
  {
   "cell_type": "markdown",
   "id": "618808c6-ddae-41c7-bc65-958d2f3deb4e",
   "metadata": {},
   "source": [
    "### Wykresy trendu oraz sezonowości: rocznej oraz "
   ]
  },
  {
   "cell_type": "code",
   "execution_count": null,
   "id": "befd2ecf-0cef-4a54-9fb9-bda2b1589762",
   "metadata": {
    "tags": []
   },
   "outputs": [],
   "source": [
    "m.plot_parameters(components=[\"trend\", \"seasonality\"])"
   ]
  },
  {
   "cell_type": "markdown",
   "id": "b5a873bb-74a9-482a-9e8c-721da5ef5104",
   "metadata": {},
   "source": [
    "### Wykres liczby nowych przypadków i łącznej liczby przypadków"
   ]
  },
  {
   "cell_type": "code",
   "execution_count": null,
   "id": "a855f0b1-aa4e-4d9c-9a99-e37702c462f9",
   "metadata": {
    "tags": []
   },
   "outputs": [],
   "source": [
    "december_2023_forecast = forecast[(forecast['ds'].dt.month == 12) & (forecast['ds'].dt.year == 2023)]\n",
    "aggregated_result = december_2023_forecast['yhat1'].sum()\n",
    "print(f\"Prognozowana liczba zakażeń w miesiącu grudzień jest równa: {round(aggregated_result)}\")"
   ]
  }
 ],
 "metadata": {
  "kernelspec": {
   "display_name": "Python 3 (ipykernel)",
   "language": "python",
   "name": "python3"
  },
  "language_info": {
   "codemirror_mode": {
    "name": "ipython",
    "version": 3
   },
   "file_extension": ".py",
   "mimetype": "text/x-python",
   "name": "python",
   "nbconvert_exporter": "python",
   "pygments_lexer": "ipython3",
   "version": "3.9.13"
  }
 },
 "nbformat": 4,
 "nbformat_minor": 5
}
